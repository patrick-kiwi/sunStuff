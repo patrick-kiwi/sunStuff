{
 "cells": [
  {
   "cell_type": "code",
   "execution_count": 20,
   "id": "2bb2a7d4",
   "metadata": {},
   "outputs": [],
   "source": [
    "import numpy as np\n",
    "import re\n",
    "\n",
    "# Constants\n",
    "E = 3.828e26  # Solar luminosity in watts (J/s)\n",
    "AU_to_m = 1.496e11  # 1 AU in meters\n",
    "seconds_per_day = 86400  # Seconds in a day\n",
    "\n",
    "# Regular expression to match data lines\n",
    "pattern = r'^\\d+\\.\\d+,\\s*(B\\.C\\.|A\\.D\\.).*'\n",
    "\n",
    "# Read the data file\n",
    "data_file = '10min_2035.txt'\n",
    "with open(data_file, 'r') as file:\n",
    "    lines = file.readlines()\n",
    "\n",
    "# Filter data lines using regex and extract relevant columns\n",
    "distances_AU = []\n",
    "calendar_dates = []\n",
    "julian_dates = []\n",
    "for line in lines:\n",
    "    line = line.strip()\n",
    "    if re.match(pattern, line):\n",
    "        parts = line.split(',')\n",
    "        julian_date = float(parts[0].strip())\n",
    "        distance_AU = float(parts[3].strip())\n",
    "        calendar_date = parts[1].strip()\n",
    "        julian_dates.append(julian_date)\n",
    "        distances_AU.append(distance_AU)\n",
    "        calendar_dates.append(calendar_date)\n",
    "\n",
    "# Convert distances to meters\n",
    "distances_m = np.array(distances_AU) * AU_to_m\n",
    "\n",
    "# Compute 1/d^2 for each point\n",
    "inv_d_sq = 1.0 / (distances_m ** 2)\n",
    "\n",
    "# Trapezoidal integration for each monthly interval\n",
    "daily_energy_per_m2 = []\n",
    "for i in range(len(julian_dates) - 1):\n",
    "    delta_t = (julian_dates[i + 1] - julian_dates[i]) * seconds_per_day\n",
    "    integral_step = (inv_d_sq[i] + inv_d_sq[i + 1]) / 2 * delta_t\n",
    "    energy_step = (E / (4 * np.pi)) * integral_step\n",
    "    daily_energy_per_m2.append(energy_step)\n",
    "    \n",
    "    \n",
    "# measure the cumulative exposure in j/m^2/year        \n",
    "exposure_in_2035 = sum(daily_energy_per_m2)"
   ]
  },
  {
   "cell_type": "code",
   "execution_count": 21,
   "id": "0729bae6",
   "metadata": {},
   "outputs": [],
   "source": [
    "import numpy as np\n",
    "import re\n",
    "\n",
    "# Constants\n",
    "E = 3.828e26  # Solar luminosity in watts (J/s)\n",
    "AU_to_m = 1.496e11  # 1 AU in meters\n",
    "seconds_per_day = 86400  # Seconds in a day\n",
    "\n",
    "# Regular expression to match data lines\n",
    "pattern = r'^\\d+\\.\\d+,\\s*(B\\.C\\.|A\\.D\\.).*'\n",
    "\n",
    "# Read the data file\n",
    "data_file = '10min_2550.txt'\n",
    "with open(data_file, 'r') as file:\n",
    "    lines = file.readlines()\n",
    "\n",
    "# Filter data lines using regex and extract relevant columns\n",
    "distances_AU = []\n",
    "calendar_dates = []\n",
    "julian_dates = []\n",
    "for line in lines:\n",
    "    line = line.strip()\n",
    "    if re.match(pattern, line):\n",
    "        parts = line.split(',')\n",
    "        julian_date = float(parts[0].strip())\n",
    "        distance_AU = float(parts[3].strip())\n",
    "        calendar_date = parts[1].strip()\n",
    "        julian_dates.append(julian_date)\n",
    "        distances_AU.append(distance_AU)\n",
    "        calendar_dates.append(calendar_date)\n",
    "\n",
    "# Convert distances to meters\n",
    "distances_m = np.array(distances_AU) * AU_to_m\n",
    "\n",
    "# Compute 1/d^2 for each point\n",
    "inv_d_sq = 1.0 / (distances_m ** 2)\n",
    "\n",
    "# Trapezoidal integration for each monthly interval\n",
    "daily_energy_per_m2 = []\n",
    "for i in range(len(julian_dates) - 1):\n",
    "    delta_t = (julian_dates[i + 1] - julian_dates[i]) * seconds_per_day\n",
    "    integral_step = (inv_d_sq[i] + inv_d_sq[i + 1]) / 2 * delta_t\n",
    "    energy_step = (E / (4 * np.pi)) * integral_step\n",
    "    daily_energy_per_m2.append(energy_step)\n",
    "    \n",
    "# measure the cumulative exposure in j/m^2/year    \n",
    "exposure_in_2550 = sum(daily_energy_per_m2)"
   ]
  },
  {
   "cell_type": "code",
   "execution_count": 28,
   "id": "a86edc1a",
   "metadata": {},
   "outputs": [
    {
     "data": {
      "text/plain": [
       "165478.1512374878"
      ]
     },
     "execution_count": 28,
     "metadata": {},
     "output_type": "execute_result"
    }
   ],
   "source": [
    "exposure_diff = exposure_in_2550 - exposure_in_2035\n",
    "seconds_per_year = 365 * 24 * 60 * 60\n",
    "irradiance_diff = exposure_diff / seconds_per_year\n",
    "exposure_diff\n"
   ]
  }
 ],
 "metadata": {
  "kernelspec": {
   "display_name": "py310",
   "language": "python",
   "name": "py310"
  },
  "language_info": {
   "codemirror_mode": {
    "name": "ipython",
    "version": 3
   },
   "file_extension": ".py",
   "mimetype": "text/x-python",
   "name": "python",
   "nbconvert_exporter": "python",
   "pygments_lexer": "ipython3",
   "version": "3.10.13"
  }
 },
 "nbformat": 4,
 "nbformat_minor": 5
}
